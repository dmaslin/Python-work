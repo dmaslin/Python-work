{
 "cells": [
  {
   "cell_type": "code",
   "execution_count": 13,
   "metadata": {
    "collapsed": false
   },
   "outputs": [
    {
     "name": "stdout",
     "output_type": "stream",
     "text": [
      "file Opened and read\n",
      "Name values stored\n",
      "State encoded\n",
      "Name encoded\n",
      "column names stored\n",
      "fitting model\n",
      "fitted\n",
      "creating dot data\n",
      "dot data created \n",
      "creating render\n",
      "render done, your file is ready\n"
     ]
    }
   ],
   "source": [
    "import pandas as pd\n",
    "from sklearn import tree, preprocessing\n",
    "import numpy as np\n",
    "from graphviz import Source\n",
    "from sklearn.externals.six import StringIO\n",
    "\n",
    "dt = tree.DecisionTreeClassifier()\n",
    "le =  preprocessing.LabelEncoder()\n",
    "\n",
    "\n",
    "test = pd.read_csv(\"femaleNames05.csv\")\n",
    "print(\"file Opened and read\")\n",
    "names = test[\"Name\"].unique()\n",
    "print(\"Name values stored\")\n",
    "test[\"State\"] = le.fit_transform(np.array(test[\"State\"]))\n",
    "print(\"State encoded\")\n",
    "test[\"Name\"] = le.fit_transform(np.array(test[\"Name\"]))\n",
    "print(\"Name encoded\")\n",
    "n = test['Name']\n",
    "test.pop('Name')\n",
    "columns = test.columns.values\n",
    "print(\"column names stored\")\n",
    "print(\"fitting model\")\n",
    "dt = dt.fit(np.array(test), np.array(n))\n",
    "print(\"fitted\")\n",
    "\n",
    "\n",
    "dot_data = StringIO()\n",
    "print(\"creating dot data\")\n",
    "tree.export_graphviz(dt, out_file=dot_data, feature_names = columns, \n",
    "                     class_names = names, filled = True, rounded = True, special_characters = True)\n",
    "print(\"dot data created \\ncreating render\")\n",
    "s = Source(dot_data.getvalue(), format = 'pdf')\n",
    "s.render('dt', view = True)\n",
    "print(\"render done, your file is ready\")\n"
   ]
  }
 ],
 "metadata": {
  "kernelspec": {
   "display_name": "Python 3",
   "language": "python",
   "name": "python3"
  },
  "language_info": {
   "codemirror_mode": {
    "name": "ipython",
    "version": 3
   },
   "file_extension": ".py",
   "mimetype": "text/x-python",
   "name": "python",
   "nbconvert_exporter": "python",
   "pygments_lexer": "ipython3",
   "version": "3.5.1"
  }
 },
 "nbformat": 4,
 "nbformat_minor": 0
}
